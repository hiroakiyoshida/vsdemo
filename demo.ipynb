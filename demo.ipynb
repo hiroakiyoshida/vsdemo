{
 "cells": [
  {
   "cell_type": "markdown",
   "id": "c365310c",
   "metadata": {},
   "source": [
    "# VizSmith Demo\n",
    "In this demo, we explore the capabilities of VizSmith by synthesizing visualizations based on the well-known Iris dataset."
   ]
  },
  {
   "cell_type": "markdown",
   "id": "dd9942c3",
   "metadata": {},
   "source": [
    "We start by loading the synthesis entrypoint function and the Iris dataset."
   ]
  },
  {
   "cell_type": "code",
   "execution_count": null,
   "id": "constant-happiness",
   "metadata": {},
   "outputs": [],
   "source": [
    "from interface.viz_app import synthesize\n",
    "\n",
    "import seaborn as sns\n",
    "iris = sns.load_dataset('iris')"
   ]
  },
  {
   "cell_type": "markdown",
   "id": "e1ee04ba",
   "metadata": {},
   "source": [
    "Then, we can simply call the `synthesize` function to generate visualizations based on the \"species\" column of the Iris dataset. Try searching for examples like \"pie\" to see relevant options!"
   ]
  },
  {
   "cell_type": "code",
   "execution_count": null,
   "id": "wireless-orbit",
   "metadata": {},
   "outputs": [],
   "source": [
    "synthesize([iris], [\"species\"])"
   ]
  }
 ],
 "metadata": {
  "kernelspec": {
   "display_name": "Python 3",
   "language": "python",
   "name": "python3"
  },
  "language_info": {
   "codemirror_mode": {
    "name": "ipython",
    "version": 3
   },
   "file_extension": ".py",
   "mimetype": "text/x-python",
   "name": "python",
   "nbconvert_exporter": "python",
   "pygments_lexer": "ipython3",
   "version": "3.9.2"
  }
 },
 "nbformat": 4,
 "nbformat_minor": 5
}
