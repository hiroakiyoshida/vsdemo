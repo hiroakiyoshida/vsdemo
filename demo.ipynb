{
 "cells": [
  {
   "cell_type": "markdown",
   "metadata": {},
   "source": [
    "# VizSmith Demo\n",
    "In this demo, we replicate the motivating example described in the paper."
   ]
  },
  {
   "cell_type": "markdown",
   "metadata": {},
   "source": [
    "We start by loading the synthesis entrypoint function and the dataset."
   ]
  },
  {
   "cell_type": "code",
   "execution_count": 1,
   "metadata": {},
   "outputs": [],
   "source": [
    "import pandas as pd\n",
    "voice_df = pd.read_csv('./voice_call_quality_dataset.csv')"
   ]
  },
  {
   "cell_type": "code",
   "execution_count": 2,
   "metadata": {},
   "outputs": [
    {
     "data": {
      "text/html": [
       "<div>\n",
       "<style scoped>\n",
       "    .dataframe tbody tr th:only-of-type {\n",
       "        vertical-align: middle;\n",
       "    }\n",
       "\n",
       "    .dataframe tbody tr th {\n",
       "        vertical-align: top;\n",
       "    }\n",
       "\n",
       "    .dataframe thead th {\n",
       "        text-align: right;\n",
       "    }\n",
       "</style>\n",
       "<table border=\"1\" class=\"dataframe\">\n",
       "  <thead>\n",
       "    <tr style=\"text-align: right;\">\n",
       "      <th></th>\n",
       "      <th>Operator</th>\n",
       "      <th>In Out Travelling</th>\n",
       "      <th>Network Type</th>\n",
       "      <th>Rating</th>\n",
       "      <th>Call Drop Category</th>\n",
       "      <th>Latitude</th>\n",
       "      <th>Longitude</th>\n",
       "      <th>State Name</th>\n",
       "    </tr>\n",
       "  </thead>\n",
       "  <tbody>\n",
       "    <tr>\n",
       "      <th>0</th>\n",
       "      <td>Idea</td>\n",
       "      <td>Indoor</td>\n",
       "      <td>4G</td>\n",
       "      <td>5</td>\n",
       "      <td>Satisfactory</td>\n",
       "      <td>-1.000000</td>\n",
       "      <td>-1.000000</td>\n",
       "      <td>NaN</td>\n",
       "    </tr>\n",
       "    <tr>\n",
       "      <th>1</th>\n",
       "      <td>Idea</td>\n",
       "      <td>Indoor</td>\n",
       "      <td>4G</td>\n",
       "      <td>1</td>\n",
       "      <td>Poor Voice Quality</td>\n",
       "      <td>-1.000000</td>\n",
       "      <td>-1.000000</td>\n",
       "      <td>NaN</td>\n",
       "    </tr>\n",
       "    <tr>\n",
       "      <th>2</th>\n",
       "      <td>Idea</td>\n",
       "      <td>Travelling</td>\n",
       "      <td>4G</td>\n",
       "      <td>2</td>\n",
       "      <td>Poor Voice Quality</td>\n",
       "      <td>-1.000000</td>\n",
       "      <td>-1.000000</td>\n",
       "      <td>NaN</td>\n",
       "    </tr>\n",
       "    <tr>\n",
       "      <th>3</th>\n",
       "      <td>Idea</td>\n",
       "      <td>Travelling</td>\n",
       "      <td>3G</td>\n",
       "      <td>3</td>\n",
       "      <td>Poor Voice Quality</td>\n",
       "      <td>-1.000000</td>\n",
       "      <td>-1.000000</td>\n",
       "      <td>NaN</td>\n",
       "    </tr>\n",
       "    <tr>\n",
       "      <th>4</th>\n",
       "      <td>Idea</td>\n",
       "      <td>Travelling</td>\n",
       "      <td>4G</td>\n",
       "      <td>2</td>\n",
       "      <td>Poor Voice Quality</td>\n",
       "      <td>-1.000000</td>\n",
       "      <td>-1.000000</td>\n",
       "      <td>NaN</td>\n",
       "    </tr>\n",
       "    <tr>\n",
       "      <th>...</th>\n",
       "      <td>...</td>\n",
       "      <td>...</td>\n",
       "      <td>...</td>\n",
       "      <td>...</td>\n",
       "      <td>...</td>\n",
       "      <td>...</td>\n",
       "      <td>...</td>\n",
       "      <td>...</td>\n",
       "    </tr>\n",
       "    <tr>\n",
       "      <th>168476</th>\n",
       "      <td>RJio</td>\n",
       "      <td>Outdoor</td>\n",
       "      <td>4G</td>\n",
       "      <td>4</td>\n",
       "      <td>Satisfactory</td>\n",
       "      <td>22.831769</td>\n",
       "      <td>70.791837</td>\n",
       "      <td>Gujarat</td>\n",
       "    </tr>\n",
       "    <tr>\n",
       "      <th>168477</th>\n",
       "      <td>RJio</td>\n",
       "      <td>Indoor</td>\n",
       "      <td>4G</td>\n",
       "      <td>4</td>\n",
       "      <td>Satisfactory</td>\n",
       "      <td>22.831769</td>\n",
       "      <td>70.791837</td>\n",
       "      <td>Gujarat</td>\n",
       "    </tr>\n",
       "    <tr>\n",
       "      <th>168478</th>\n",
       "      <td>RJio</td>\n",
       "      <td>Outdoor</td>\n",
       "      <td>4G</td>\n",
       "      <td>4</td>\n",
       "      <td>Satisfactory</td>\n",
       "      <td>22.831769</td>\n",
       "      <td>70.791837</td>\n",
       "      <td>Gujarat</td>\n",
       "    </tr>\n",
       "    <tr>\n",
       "      <th>168479</th>\n",
       "      <td>RJio</td>\n",
       "      <td>Outdoor</td>\n",
       "      <td>4G</td>\n",
       "      <td>4</td>\n",
       "      <td>Satisfactory</td>\n",
       "      <td>22.831769</td>\n",
       "      <td>70.791837</td>\n",
       "      <td>Gujarat</td>\n",
       "    </tr>\n",
       "    <tr>\n",
       "      <th>168480</th>\n",
       "      <td>RJio</td>\n",
       "      <td>Outdoor</td>\n",
       "      <td>4G</td>\n",
       "      <td>1</td>\n",
       "      <td>Poor Voice Quality</td>\n",
       "      <td>22.831353</td>\n",
       "      <td>70.791424</td>\n",
       "      <td>Gujarat</td>\n",
       "    </tr>\n",
       "  </tbody>\n",
       "</table>\n",
       "<p>168481 rows × 8 columns</p>\n",
       "</div>"
      ],
      "text/plain": [
       "       Operator In Out Travelling Network Type  Rating  Call Drop Category  \\\n",
       "0          Idea            Indoor           4G       5        Satisfactory   \n",
       "1          Idea            Indoor           4G       1  Poor Voice Quality   \n",
       "2          Idea        Travelling           4G       2  Poor Voice Quality   \n",
       "3          Idea        Travelling           3G       3  Poor Voice Quality   \n",
       "4          Idea        Travelling           4G       2  Poor Voice Quality   \n",
       "...         ...               ...          ...     ...                 ...   \n",
       "168476     RJio           Outdoor           4G       4        Satisfactory   \n",
       "168477     RJio            Indoor           4G       4        Satisfactory   \n",
       "168478     RJio           Outdoor           4G       4        Satisfactory   \n",
       "168479     RJio           Outdoor           4G       4        Satisfactory   \n",
       "168480     RJio           Outdoor           4G       1  Poor Voice Quality   \n",
       "\n",
       "         Latitude  Longitude State Name  \n",
       "0       -1.000000  -1.000000        NaN  \n",
       "1       -1.000000  -1.000000        NaN  \n",
       "2       -1.000000  -1.000000        NaN  \n",
       "3       -1.000000  -1.000000        NaN  \n",
       "4       -1.000000  -1.000000        NaN  \n",
       "...           ...        ...        ...  \n",
       "168476  22.831769  70.791837    Gujarat  \n",
       "168477  22.831769  70.791837    Gujarat  \n",
       "168478  22.831769  70.791837    Gujarat  \n",
       "168479  22.831769  70.791837    Gujarat  \n",
       "168480  22.831353  70.791424    Gujarat  \n",
       "\n",
       "[168481 rows x 8 columns]"
      ]
     },
     "execution_count": 2,
     "metadata": {},
     "output_type": "execute_result"
    }
   ],
   "source": [
    "voice_df"
   ]
  },
  {
   "cell_type": "markdown",
   "metadata": {},
   "source": [
    "The dataset contains customer 168k customer ratings. We want to visualize the call rating (`Call Drop Category`) distribution for each operator normalized by the number of records for that operator. We simply call `synthesize` passing `voice_df` as the dataframe and `Operator` and `Call Drop Category` as the columns to visualize."
   ]
  },
  {
   "cell_type": "code",
   "execution_count": 4,
   "metadata": {},
   "outputs": [
    {
     "data": {
      "application/vnd.jupyter.widget-view+json": {
       "model_id": "e3f1c77acf5242f7a2da4a63c7f4d40b",
       "version_major": 2,
       "version_minor": 0
      },
      "text/plain": [
       "Text(value='', description='Search', layout=Layout(width='auto'), placeholder='Type keywords to synthesize vis…"
      ]
     },
     "metadata": {},
     "output_type": "display_data"
    },
    {
     "data": {
      "application/vnd.jupyter.widget-view+json": {
       "model_id": "762ce8cb5c4b4bdb99a4f4dad45dc7dd",
       "version_major": 2,
       "version_minor": 0
      },
      "text/plain": [
       "HBox(children=(Button(icon='arrow-left', layout=Layout(height='auto', width='auto'), style=ButtonStyle()), But…"
      ]
     },
     "metadata": {},
     "output_type": "display_data"
    },
    {
     "data": {
      "application/vnd.jupyter.widget-view+json": {
       "model_id": "f3342e974330468d9f5ce00b38d0e7ff",
       "version_major": 2,
       "version_minor": 0
      },
      "text/plain": [
       "Output()"
      ]
     },
     "metadata": {},
     "output_type": "display_data"
    },
    {
     "data": {
      "application/vnd.jupyter.widget-view+json": {
       "model_id": "ac5925ae2a2c482f871e3ee891eaefed",
       "version_major": 2,
       "version_minor": 0
      },
      "text/plain": [
       "VizSynthesisWidget()"
      ]
     },
     "metadata": {},
     "output_type": "display_data"
    }
   ],
   "source": [
    "# Run this cell. This may take a few seconds to start up as it is indexing the visualizations. \n",
    "# Subsequent runs will be instantaneous.\n",
    "# Type `normalized stacked bar chart` in the search bar to see the results.\n",
    "from interface.viz_app import synthesize\n",
    "synthesize([voice_df], ['Operator', 'Call Drop Category'])"
   ]
  },
  {
   "cell_type": "code",
   "execution_count": null,
   "metadata": {},
   "outputs": [],
   "source": []
  }
 ],
 "metadata": {
  "kernelspec": {
   "display_name": "Python 3",
   "language": "python",
   "name": "python3"
  },
  "language_info": {
   "codemirror_mode": {
    "name": "ipython",
    "version": 3
   },
   "file_extension": ".py",
   "mimetype": "text/x-python",
   "name": "python",
   "nbconvert_exporter": "python",
   "pygments_lexer": "ipython3",
   "version": "3.7.4"
  }
 },
 "nbformat": 4,
 "nbformat_minor": 5
}
